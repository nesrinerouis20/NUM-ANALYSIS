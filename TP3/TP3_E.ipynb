{
 "cells": [
  {
   "cell_type": "markdown",
   "id": "6de13ebc",
   "metadata": {},
   "source": [
    "<img src=\"entete.png\">\n",
    "\n",
    "\n",
    "\n",
    "\n"
   ]
  },
  {
   "cell_type": "markdown",
   "id": "e6f0c37d",
   "metadata": {},
   "source": [
    "# <font color=red>TP3 :  PROJET ANALYSE NUMERIQUE</font>"
   ]
  },
  {
   "cell_type": "code",
   "execution_count": 1,
   "id": "9e4feb19",
   "metadata": {},
   "outputs": [],
   "source": [
    "%matplotlib inline\n",
    "import ipywidgets as widgets\n",
    "import matplotlib.pyplot as plt\n",
    "import numpy as np\n",
    "from numpy import *\n",
    "from ipywidgets import interact, interactive, fixed, interact_manual\n",
    "import ipywidgets as widgets"
   ]
  },
  {
   "cell_type": "code",
   "execution_count": 2,
   "id": "a2965915",
   "metadata": {},
   "outputs": [],
   "source": [
    "class RectangleG ( object ) :\n",
    "    def __init__ (self , a , b , n , f ) :\n",
    "        self.a = a\n",
    "        self.b = b\n",
    "        self.x = np.linspace( a , b , n+1 )\n",
    "        self.f = f\n",
    "        self.n = n\n",
    "    def integrate ( self , f ) :\n",
    "        x= self.x\n",
    "        y= f( x )\n",
    "        h = float( x[1] - x[0] )\n",
    "        s = sum( y[ 0 : -1 ] )\n",
    "        return h * s\n",
    "    def Graph ( self , f , resolution =1001 ) :\n",
    "        xl = self.x\n",
    "        yl = f(xl)\n",
    "        xlist_fine =np.linspace( self.a , self.b , resolution )\n",
    "        for i in range ( self.n ) :\n",
    "            x_rect = [xl[ i ] , xl[ i ] , xl[ i + 1 ] , xl[i+1] , xl[ i ] ] # abscisses des sommets\n",
    "            y_rect = [0 , yl[ i ] , yl[ i ] , 0 , 0 ] # ordonnees des sommets\n",
    "            plt.plot ( x_rect , y_rect , 'r' )\n",
    "        yflist_fine = f ( xlist_fine )\n",
    "        _=plt.plot ( xlist_fine , yflist_fine )\n",
    "        _=plt.plot(xl, yl,\"bo\")\n",
    "        _=plt.xlabel ( 'x' )\n",
    "        _=plt.ylabel ( ' f ( x ) ' )\n",
    "        _=plt.title ( ' Methode des rectangles gauches' )\n",
    "        #plt.text( 0.5*( self.a+ self.b ) , f(self.b ) , 'I_{} ={:0.8f}'.format(self.n,self.integrate( f ) ) , fontsize =15 )\n",
    "        plt.show()"
   ]
  },
  {
   "cell_type": "code",
   "execution_count": 3,
   "id": "ca9f7a9a",
   "metadata": {},
   "outputs": [],
   "source": [
    "class Trapezoidal(object):\n",
    "    def __init__(self, a, b, n, f):\n",
    "        self.a = a\n",
    "        self.b = b\n",
    "        self.x = np.linspace(a, b, n+1)\n",
    "        self.f = f\n",
    "        self.n = n\n",
    "    def integrate(self,f):\n",
    "        x=self.x\n",
    "        y=f(x)\n",
    "        h = float(x[1] - x[0])\n",
    "        s = y[0] + y[-1] + 2.0*sum(y[1:-1])\n",
    "        return h * s / 2.0\n",
    "    def Graph(self,f,resolution=1001):\n",
    "        xl = self.x\n",
    "        yl = f(xl)\n",
    "        xlist_fine=np.linspace(self.a, self.b, resolution)\n",
    "        for i in range(self.n):\n",
    "            x_rect = [xl[i], xl[i], xl[i+1], xl[i+1], xl[i]] # abscisses des sommets\n",
    "            y_rect = [0   , yl[i], yl[i+1]  , 0     , 0   ] # ordonnees des sommets\n",
    "            plt.plot(x_rect, y_rect,\"m\")\n",
    "        yflist_fine = f(xlist_fine)\n",
    "        plt.plot(xlist_fine, yflist_fine)#plot de f(x)\n",
    "        plt.plot(xl, yl,\"cs\")#point support\n",
    "        plt.ylabel ( ' f ( x ) ' )\n",
    "        plt.title ( ' Methode des Trapèzes' )\n",
    "        #plt.text( 0.5*( self.a+ self.b ) , f(self.b ) , 'I_{} ={:0.8f}'.format(self.n,self.integrate( f ) ) , fontsize =15 )"
   ]
  },
  {
   "cell_type": "code",
   "execution_count": 4,
   "id": "c56d7819",
   "metadata": {},
   "outputs": [],
   "source": [
    "from scipy.integrate import quad\n"
   ]
  },
  {
   "cell_type": "code",
   "execution_count": 8,
   "id": "bc4a3014",
   "metadata": {
    "scrolled": true
   },
   "outputs": [
    {
     "data": {
      "application/vnd.jupyter.widget-view+json": {
       "model_id": "edc0ebdeb59242afb6fb80ca4fe3faad",
       "version_major": 2,
       "version_minor": 0
      },
      "text/plain": [
       "interactive(children=(Dropdown(description='methode', options=('Trapèze', 'Rectangle', 'Siempson'), value='Tra…"
      ]
     },
     "metadata": {},
     "output_type": "display_data"
    }
   ],
   "source": [
    "@interact(methode=['Trapèze','Rectangle','Simpson'],\n",
    "          a=-np.pi,b=np.pi,\n",
    "          n=[5,25,50],\n",
    "          f={'f(x)=sin(x)':lambda x:np.sin(x),'g(x)=x**2+x-1':lambda x:x**2+x-1})\n",
    "def test(methode,a,b,n,f):\n",
    "    I = quad(f, a, b)[0]\n",
    "    meth={'Trapèze':Trapezoidal,'Rectangle':RectangleG}\n",
    "    M=meth[methode](a,b,n,f)\n",
    "    print('l'' intégrale avec la méthode {}= {}'.format(methode,M.integrate(f)))\n",
    "    print('l'' erreur d''intégration = {}'.format(I-M.integrate(f)))\n",
    "    M.Graph(f)\n",
    "    plt.show()\n",
    "\n",
    "    "
   ]
  },
  {
   "cell_type": "code",
   "execution_count": 7,
   "id": "6996499c",
   "metadata": {},
   "outputs": [],
   "source": [
    "plt.show()"
   ]
  },
  {
   "cell_type": "markdown",
   "id": "6fb4d80a",
   "metadata": {},
   "source": [
    "## Conclusion Générale"
   ]
  },
  {
   "cell_type": "markdown",
   "id": "6c764e8e",
   "metadata": {},
   "source": [
    "+ <b>La Méthode du rectangle :</b> Il s’agit de l’aire du rectangle. Cette intégrale numérique nécessite une unique évaluation de la fonction f (en x0 = a) et représente donc ce qu’on peut faire de plus rapide. on peut constater qu'on a 2 choix de techniques: <br> 1) on fait coïncider le sommet haut gauche du rectangle avec la courbe : c'est la méthode des rectangles à gauche. <br> 2) on fait coïncider le sommet haut droit du rectangle avec la courbe : c'est la méthode des rectangles à droite. <br> \n",
    "==>La méthode des rectangles : très simple, facile à coder mais pas très précise. Pour des fonctions cool (polynomiales, sin, cos, exp), cette méthode donne des résultats acceptables.  <br> \n",
    "+ <b>La Méthode des trapèzes :</b> Il s’agit de l’aire du trapèze. Cette méthode nécessite deux évaluations de la fonction f (en a et en b). Elle est donc en gros deux fois plus lente que la methode du rectange.<br>\n",
    "==> La méthode des trapèzes standard est une méthode d'ordre 2.\n",
    "+ <b>La Méthode des trapèzes :</b>  la méthode de Simpson caractérise un polynôme de degré 2 et reste exacte pour tout polynôme de degré 3. Il s’agit d’une sorte d’anomalie où se produisent des compensations bénéfiques à l’ordre de la méthode.\n"
   ]
  }
 ],
 "metadata": {
  "kernelspec": {
   "display_name": "Python 3",
   "language": "python",
   "name": "python3"
  },
  "language_info": {
   "codemirror_mode": {
    "name": "ipython",
    "version": 3
   },
   "file_extension": ".py",
   "mimetype": "text/x-python",
   "name": "python",
   "nbconvert_exporter": "python",
   "pygments_lexer": "ipython3",
   "version": "3.8.8"
  }
 },
 "nbformat": 4,
 "nbformat_minor": 5
}
